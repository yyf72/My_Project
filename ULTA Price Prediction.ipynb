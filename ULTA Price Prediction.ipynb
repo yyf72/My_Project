{
 "cells": [
  {
   "cell_type": "code",
   "execution_count": 43,
   "metadata": {},
   "outputs": [],
   "source": [
    "#Description: This program uses an artificial recurrent neural network called Long Short Term Memory(LSTM)\n",
    "#             to predict the closing stock price of ULTA using the past 60 day stock price."
   ]
  },
  {
   "cell_type": "code",
   "execution_count": 44,
   "metadata": {},
   "outputs": [],
   "source": [
    "#Import the libraries\n",
    "import math\n",
    "import yfinance as yf\n",
    "import numpy as np\n",
    "import pandas as pd\n",
    "from sklearn.preprocessing import MinMaxScaler\n",
    "from keras.models import Sequential\n",
    "from keras.layers import Dense, LSTM\n",
    "import matplotlib.pyplot as plt\n",
    "plt.style.use('fivethirtyeight')"
   ]
  },
  {
   "cell_type": "code",
   "execution_count": 45,
   "metadata": {},
   "outputs": [
    {
     "data": {
      "text/html": [
       "<div>\n",
       "<style scoped>\n",
       "    .dataframe tbody tr th:only-of-type {\n",
       "        vertical-align: middle;\n",
       "    }\n",
       "\n",
       "    .dataframe tbody tr th {\n",
       "        vertical-align: top;\n",
       "    }\n",
       "\n",
       "    .dataframe thead th {\n",
       "        text-align: right;\n",
       "    }\n",
       "</style>\n",
       "<table border=\"1\" class=\"dataframe\">\n",
       "  <thead>\n",
       "    <tr style=\"text-align: right;\">\n",
       "      <th></th>\n",
       "      <th>Open</th>\n",
       "      <th>High</th>\n",
       "      <th>Low</th>\n",
       "      <th>Close</th>\n",
       "      <th>Volume</th>\n",
       "      <th>Dividends</th>\n",
       "      <th>Stock Splits</th>\n",
       "    </tr>\n",
       "    <tr>\n",
       "      <th>Date</th>\n",
       "      <th></th>\n",
       "      <th></th>\n",
       "      <th></th>\n",
       "      <th></th>\n",
       "      <th></th>\n",
       "      <th></th>\n",
       "      <th></th>\n",
       "    </tr>\n",
       "  </thead>\n",
       "  <tbody>\n",
       "    <tr>\n",
       "      <th>2015-01-02</th>\n",
       "      <td>128.13</td>\n",
       "      <td>129.09</td>\n",
       "      <td>125.24</td>\n",
       "      <td>126.84</td>\n",
       "      <td>410800</td>\n",
       "      <td>0</td>\n",
       "      <td>0</td>\n",
       "    </tr>\n",
       "    <tr>\n",
       "      <th>2015-01-05</th>\n",
       "      <td>126.31</td>\n",
       "      <td>127.98</td>\n",
       "      <td>125.65</td>\n",
       "      <td>127.15</td>\n",
       "      <td>477400</td>\n",
       "      <td>0</td>\n",
       "      <td>0</td>\n",
       "    </tr>\n",
       "    <tr>\n",
       "      <th>2015-01-06</th>\n",
       "      <td>127.05</td>\n",
       "      <td>128.79</td>\n",
       "      <td>124.70</td>\n",
       "      <td>126.95</td>\n",
       "      <td>758200</td>\n",
       "      <td>0</td>\n",
       "      <td>0</td>\n",
       "    </tr>\n",
       "    <tr>\n",
       "      <th>2015-01-07</th>\n",
       "      <td>128.78</td>\n",
       "      <td>130.64</td>\n",
       "      <td>127.97</td>\n",
       "      <td>130.58</td>\n",
       "      <td>597200</td>\n",
       "      <td>0</td>\n",
       "      <td>0</td>\n",
       "    </tr>\n",
       "    <tr>\n",
       "      <th>2015-01-08</th>\n",
       "      <td>131.53</td>\n",
       "      <td>132.88</td>\n",
       "      <td>131.14</td>\n",
       "      <td>132.24</td>\n",
       "      <td>618400</td>\n",
       "      <td>0</td>\n",
       "      <td>0</td>\n",
       "    </tr>\n",
       "    <tr>\n",
       "      <th>...</th>\n",
       "      <td>...</td>\n",
       "      <td>...</td>\n",
       "      <td>...</td>\n",
       "      <td>...</td>\n",
       "      <td>...</td>\n",
       "      <td>...</td>\n",
       "      <td>...</td>\n",
       "    </tr>\n",
       "    <tr>\n",
       "      <th>2020-03-18</th>\n",
       "      <td>144.72</td>\n",
       "      <td>149.06</td>\n",
       "      <td>124.05</td>\n",
       "      <td>128.52</td>\n",
       "      <td>2367200</td>\n",
       "      <td>0</td>\n",
       "      <td>0</td>\n",
       "    </tr>\n",
       "    <tr>\n",
       "      <th>2020-03-19</th>\n",
       "      <td>128.81</td>\n",
       "      <td>153.65</td>\n",
       "      <td>124.33</td>\n",
       "      <td>146.99</td>\n",
       "      <td>2638300</td>\n",
       "      <td>0</td>\n",
       "      <td>0</td>\n",
       "    </tr>\n",
       "    <tr>\n",
       "      <th>2020-03-20</th>\n",
       "      <td>156.35</td>\n",
       "      <td>164.95</td>\n",
       "      <td>143.90</td>\n",
       "      <td>148.06</td>\n",
       "      <td>3077400</td>\n",
       "      <td>0</td>\n",
       "      <td>0</td>\n",
       "    </tr>\n",
       "    <tr>\n",
       "      <th>2020-03-23</th>\n",
       "      <td>149.45</td>\n",
       "      <td>155.00</td>\n",
       "      <td>140.34</td>\n",
       "      <td>143.24</td>\n",
       "      <td>1595500</td>\n",
       "      <td>0</td>\n",
       "      <td>0</td>\n",
       "    </tr>\n",
       "    <tr>\n",
       "      <th>2020-03-24</th>\n",
       "      <td>157.98</td>\n",
       "      <td>179.15</td>\n",
       "      <td>154.05</td>\n",
       "      <td>177.59</td>\n",
       "      <td>1859610</td>\n",
       "      <td>0</td>\n",
       "      <td>0</td>\n",
       "    </tr>\n",
       "  </tbody>\n",
       "</table>\n",
       "<p>1315 rows × 7 columns</p>\n",
       "</div>"
      ],
      "text/plain": [
       "              Open    High     Low   Close   Volume  Dividends  Stock Splits\n",
       "Date                                                                        \n",
       "2015-01-02  128.13  129.09  125.24  126.84   410800          0             0\n",
       "2015-01-05  126.31  127.98  125.65  127.15   477400          0             0\n",
       "2015-01-06  127.05  128.79  124.70  126.95   758200          0             0\n",
       "2015-01-07  128.78  130.64  127.97  130.58   597200          0             0\n",
       "2015-01-08  131.53  132.88  131.14  132.24   618400          0             0\n",
       "...            ...     ...     ...     ...      ...        ...           ...\n",
       "2020-03-18  144.72  149.06  124.05  128.52  2367200          0             0\n",
       "2020-03-19  128.81  153.65  124.33  146.99  2638300          0             0\n",
       "2020-03-20  156.35  164.95  143.90  148.06  3077400          0             0\n",
       "2020-03-23  149.45  155.00  140.34  143.24  1595500          0             0\n",
       "2020-03-24  157.98  179.15  154.05  177.59  1859610          0             0\n",
       "\n",
       "[1315 rows x 7 columns]"
      ]
     },
     "execution_count": 45,
     "metadata": {},
     "output_type": "execute_result"
    }
   ],
   "source": [
    "#Get the stock quote\n",
    "df=yf.Ticker(\"ULTA\")\n",
    "df = df.history(start='2015-01-01', end='2020-12-31')\n",
    "#Show the data\n",
    "df"
   ]
  },
  {
   "cell_type": "code",
   "execution_count": 46,
   "metadata": {},
   "outputs": [
    {
     "data": {
      "text/plain": [
       "(1315, 7)"
      ]
     },
     "execution_count": 46,
     "metadata": {},
     "output_type": "execute_result"
    }
   ],
   "source": [
    "#Get the number of rows and columns in the data set\n",
    "df.shape"
   ]
  },
  {
   "cell_type": "code",
   "execution_count": 47,
   "metadata": {},
   "outputs": [
    {
     "data": {
      "image/png": "[encoded data removed]",
      "text/plain": [
       "<Figure size 1152x576 with 1 Axes>"
      ]
     },
     "metadata": {},
     "output_type": "display_data"
    }
   ],
   "source": [
    "#Visualize the closing price history\n",
    "plt.figure(figsize=(16,8))\n",
    "plt.title('Close Price History')\n",
    "plt.plot(df['Close'])\n",
    "plt.xlabel('Date',fontsize=18)\n",
    "plt.ylabel('Close Price USD ($)',fontsize=18)\n",
    "plt.show()"
   ]
  },
  {
   "cell_type": "code",
   "execution_count": 48,
   "metadata": {},
   "outputs": [
    {
     "data": {
      "text/plain": [
       "1052"
      ]
     },
     "execution_count": 48,
     "metadata": {},
     "output_type": "execute_result"
    }
   ],
   "source": [
    "#Create a new dataframe with only the 'close column'\n",
    "data=df.filter(['Close'])\n",
    "#Convert the dataframe to a numpy array\n",
    "dataset=data.values\n",
    "#Get the number of rows to train the model on\n",
    "training_data_len= math.ceil(len(dataset)*.8)\n",
    "\n",
    "training_data_len"
   ]
  },
  {
   "cell_type": "code",
   "execution_count": 49,
   "metadata": {},
   "outputs": [
    {
     "data": {
      "text/plain": [
       "array([[0.        ],\n",
       "       [0.00129409],\n",
       "       [0.00045919],\n",
       "       ...,\n",
       "       [0.08858276],\n",
       "       [0.0684617 ],\n",
       "       [0.21185556]])"
      ]
     },
     "execution_count": 49,
     "metadata": {},
     "output_type": "execute_result"
    }
   ],
   "source": [
    "#Scale the data\n",
    "scaler= MinMaxScaler(feature_range=(0,1))\n",
    "scaled_data=scaler.fit_transform(dataset)\n",
    "scaled_data"
   ]
  },
  {
   "cell_type": "code",
   "execution_count": 50,
   "metadata": {},
   "outputs": [
    {
     "name": "stdout",
     "output_type": "stream",
     "text": [
      "[array([0.        , 0.00129409, 0.00045919, 0.01561261, 0.02254227,\n",
      "       0.01974536, 0.01252348, 0.00822375, 0.00797328, 0.00125235,\n",
      "       0.01202254, 0.00133584, 0.00630349, 0.0238781 , 0.0354832 ,\n",
      "       0.03857232, 0.03757044, 0.02930495, 0.03155917, 0.02128992,\n",
      "       0.01719891, 0.0292632 , 0.02154039, 0.02584012, 0.02680025,\n",
      "       0.03393863, 0.04241286, 0.03782091, 0.03853058, 0.04099353,\n",
      "       0.03786266, 0.04082655, 0.0420789 , 0.04658735, 0.04345648,\n",
      "       0.0482154 , 0.04975997, 0.05739929, 0.05810895, 0.07004801,\n",
      "       0.06341056, 0.05456063, 0.0585264 , 0.0490503 , 0.05894385,\n",
      "       0.05689835, 0.06311835, 0.0750574 , 0.09709873, 0.09743269,\n",
      "       0.09860154, 0.10081403, 0.10624087, 0.10511375, 0.10995617,\n",
      "       0.11241912, 0.10327698, 0.09672302, 0.10169067, 0.10327698])]\n",
      "[0.10022959716134416]\n",
      "\n"
     ]
    }
   ],
   "source": [
    "#Create the training data set\n",
    "#Create the scaled training data set\n",
    "train_data= scaled_data[0:training_data_len,:]\n",
    "#Split the data into x_train and y_train data sets\n",
    "x_train=[]\n",
    "y_train=[]\n",
    "\n",
    "for i in range(60, len(train_data)):\n",
    "    x_train.append(train_data[i-60:i,0])\n",
    "    y_train.append(train_data[i,0])\n",
    "    if i<=60:\n",
    "        print(x_train)\n",
    "        print(y_train)\n",
    "        print()"
   ]
  },
  {
   "cell_type": "code",
   "execution_count": 51,
   "metadata": {},
   "outputs": [
    {
     "data": {
      "text/plain": [
       "(992, 60, 1)"
      ]
     },
     "execution_count": 51,
     "metadata": {},
     "output_type": "execute_result"
    }
   ],
   "source": [
    "#Convert the x_train and y_train to numpy arrays\n",
    "x_train,y_train=np.array(x_train),np.array(y_train)\n",
    "\n",
    "#Reshape the data\n",
    "x_train=np.reshape(x_train,(x_train.shape[0],x_train.shape[1],1))\n",
    "x_train.shape"
   ]
  },
  {
   "cell_type": "code",
   "execution_count": 52,
   "metadata": {},
   "outputs": [],
   "source": [
    "#Build the LSTM model\n",
    "model= Sequential()\n",
    "model.add(LSTM(50,return_sequences=True,input_shape=(x_train.shape[1],1)))\n",
    "model.add(LSTM(50,return_sequences=False))\n",
    "model.add(Dense(25))\n",
    "model.add(Dense(1))"
   ]
  },
  {
   "cell_type": "code",
   "execution_count": 53,
   "metadata": {},
   "outputs": [],
   "source": [
    "#Complie the model\n",
    "model.compile(optimizer='adam',loss='mean_squared_error')"
   ]
  },
  {
   "cell_type": "code",
   "execution_count": 54,
   "metadata": {},
   "outputs": [
    {
     "name": "stdout",
     "output_type": "stream",
     "text": [
      "Epoch 1/1\n",
      "992/992 [==============================] - 54s 55ms/step - loss: 0.0035\n"
     ]
    },
    {
     "data": {
      "text/plain": [
       "<keras.callbacks.callbacks.History at 0x1a346bd518>"
      ]
     },
     "execution_count": 54,
     "metadata": {},
     "output_type": "execute_result"
    }
   ],
   "source": [
    "#Train the model\n",
    "model.fit(x_train,y_train,batch_size=1,epochs=1)"
   ]
  },
  {
   "cell_type": "code",
   "execution_count": 55,
   "metadata": {},
   "outputs": [],
   "source": [
    "#Create the testing data set\n",
    "#Create a new array containing scaled values from index 991 to 1051\n",
    "test_data=scaled_data[training_data_len-60: ,:]\n",
    "#Create the data sets x_test and y_test, y_test is the actully predict data set\n",
    "x_test=[]\n",
    "y_test=dataset[training_data_len:,:]\n",
    "for i in range(60, len(test_data)):\n",
    "    x_test.append(test_data[i-60:i,0])"
   ]
  },
  {
   "cell_type": "code",
   "execution_count": 56,
   "metadata": {},
   "outputs": [],
   "source": [
    "#Convert the data to a numpy array\n",
    "x_test=np.array(x_test)"
   ]
  },
  {
   "cell_type": "code",
   "execution_count": 57,
   "metadata": {},
   "outputs": [],
   "source": [
    "#Reshape the data\n",
    "x_test=np.reshape(x_test,(x_test.shape[0],x_test.shape[1],1))"
   ]
  },
  {
   "cell_type": "code",
   "execution_count": 58,
   "metadata": {},
   "outputs": [],
   "source": [
    "#Get the models predicted price values\n",
    "predictions=model.predict(x_test)\n",
    "predictions=scaler.inverse_transform(predictions)"
   ]
  },
  {
   "cell_type": "code",
   "execution_count": 59,
   "metadata": {},
   "outputs": [
    {
     "data": {
      "text/plain": [
       "2.2394555130294957"
      ]
     },
     "execution_count": 59,
     "metadata": {},
     "output_type": "execute_result"
    }
   ],
   "source": [
    "#Get the root mean squared error(RMSE)\n",
    "rmse=np.sqrt(np.mean(predictions-y_test)**2)\n",
    "rmse"
   ]
  },
  {
   "cell_type": "code",
   "execution_count": 60,
   "metadata": {},
   "outputs": [
    {
     "name": "stderr",
     "output_type": "stream",
     "text": [
      "/anaconda3/lib/python3.7/site-packages/ipykernel_launcher.py:4: SettingWithCopyWarning: \n",
      "A value is trying to be set on a copy of a slice from a DataFrame.\n",
      "Try using .loc[row_indexer,col_indexer] = value instead\n",
      "\n",
      "See the caveats in the documentation: https://pandas.pydata.org/pandas-docs/stable/user_guide/indexing.html#returning-a-view-versus-a-copy\n",
      "  after removing the cwd from sys.path.\n"
     ]
    },
    {
     "data": {
      "image/png": "[encoded data removed]",
      "text/plain": [
       "<Figure size 1152x576 with 1 Axes>"
      ]
     },
     "metadata": {},
     "output_type": "display_data"
    }
   ],
   "source": [
    "#Plot the data\n",
    "train=data[:training_data_len]\n",
    "valid=data[training_data_len:]\n",
    "valid['Predictions']=predictions\n",
    "#Visualize the data\n",
    "plt.figure(figsize=(16,8))\n",
    "plt.title('Model')\n",
    "plt.xlabel('Date',fontsize=18)\n",
    "plt.ylabel('Close Price USD ($)',fontsize=18)\n",
    "plt.plot(train['Close'])\n",
    "plt.plot(valid[['Close','Predictions']])\n",
    "plt.legend(['Train','Val','Predictions'],loc='lower right')\n",
    "plt.show()"
   ]
  },
  {
   "cell_type": "code",
   "execution_count": 61,
   "metadata": {},
   "outputs": [
    {
     "data": {
      "text/html": [
       "<div>\n",
       "<style scoped>\n",
       "    .dataframe tbody tr th:only-of-type {\n",
       "        vertical-align: middle;\n",
       "    }\n",
       "\n",
       "    .dataframe tbody tr th {\n",
       "        vertical-align: top;\n",
       "    }\n",
       "\n",
       "    .dataframe thead th {\n",
       "        text-align: right;\n",
       "    }\n",
       "</style>\n",
       "<table border=\"1\" class=\"dataframe\">\n",
       "  <thead>\n",
       "    <tr style=\"text-align: right;\">\n",
       "      <th></th>\n",
       "      <th>Close</th>\n",
       "      <th>Predictions</th>\n",
       "    </tr>\n",
       "    <tr>\n",
       "      <th>Date</th>\n",
       "      <th></th>\n",
       "      <th></th>\n",
       "    </tr>\n",
       "  </thead>\n",
       "  <tbody>\n",
       "    <tr>\n",
       "      <th>2019-03-11</th>\n",
       "      <td>309.75</td>\n",
       "      <td>305.138428</td>\n",
       "    </tr>\n",
       "    <tr>\n",
       "      <th>2019-03-12</th>\n",
       "      <td>311.41</td>\n",
       "      <td>304.290436</td>\n",
       "    </tr>\n",
       "    <tr>\n",
       "      <th>2019-03-13</th>\n",
       "      <td>315.44</td>\n",
       "      <td>304.023224</td>\n",
       "    </tr>\n",
       "    <tr>\n",
       "      <th>2019-03-14</th>\n",
       "      <td>312.51</td>\n",
       "      <td>304.713043</td>\n",
       "    </tr>\n",
       "    <tr>\n",
       "      <th>2019-03-15</th>\n",
       "      <td>338.41</td>\n",
       "      <td>305.445923</td>\n",
       "    </tr>\n",
       "    <tr>\n",
       "      <th>...</th>\n",
       "      <td>...</td>\n",
       "      <td>...</td>\n",
       "    </tr>\n",
       "    <tr>\n",
       "      <th>2020-03-18</th>\n",
       "      <td>128.52</td>\n",
       "      <td>197.445709</td>\n",
       "    </tr>\n",
       "    <tr>\n",
       "      <th>2020-03-19</th>\n",
       "      <td>146.99</td>\n",
       "      <td>181.460037</td>\n",
       "    </tr>\n",
       "    <tr>\n",
       "      <th>2020-03-20</th>\n",
       "      <td>148.06</td>\n",
       "      <td>168.414719</td>\n",
       "    </tr>\n",
       "    <tr>\n",
       "      <th>2020-03-23</th>\n",
       "      <td>143.24</td>\n",
       "      <td>158.748932</td>\n",
       "    </tr>\n",
       "    <tr>\n",
       "      <th>2020-03-24</th>\n",
       "      <td>177.59</td>\n",
       "      <td>151.733566</td>\n",
       "    </tr>\n",
       "  </tbody>\n",
       "</table>\n",
       "<p>263 rows × 2 columns</p>\n",
       "</div>"
      ],
      "text/plain": [
       "             Close  Predictions\n",
       "Date                           \n",
       "2019-03-11  309.75   305.138428\n",
       "2019-03-12  311.41   304.290436\n",
       "2019-03-13  315.44   304.023224\n",
       "2019-03-14  312.51   304.713043\n",
       "2019-03-15  338.41   305.445923\n",
       "...            ...          ...\n",
       "2020-03-18  128.52   197.445709\n",
       "2020-03-19  146.99   181.460037\n",
       "2020-03-20  148.06   168.414719\n",
       "2020-03-23  143.24   158.748932\n",
       "2020-03-24  177.59   151.733566\n",
       "\n",
       "[263 rows x 2 columns]"
      ]
     },
     "execution_count": 61,
     "metadata": {},
     "output_type": "execute_result"
    }
   ],
   "source": [
    "#Show the valid and predicted prices\n",
    "valid"
   ]
  },
  {
   "cell_type": "code",
   "execution_count": 62,
   "metadata": {},
   "outputs": [
    {
     "data": {
      "text/html": [
       "<div>\n",
       "<style scoped>\n",
       "    .dataframe tbody tr th:only-of-type {\n",
       "        vertical-align: middle;\n",
       "    }\n",
       "\n",
       "    .dataframe tbody tr th {\n",
       "        vertical-align: top;\n",
       "    }\n",
       "\n",
       "    .dataframe thead th {\n",
       "        text-align: right;\n",
       "    }\n",
       "</style>\n",
       "<table border=\"1\" class=\"dataframe\">\n",
       "  <thead>\n",
       "    <tr style=\"text-align: right;\">\n",
       "      <th></th>\n",
       "      <th>Close</th>\n",
       "      <th>Predictions</th>\n",
       "    </tr>\n",
       "    <tr>\n",
       "      <th>Date</th>\n",
       "      <th></th>\n",
       "      <th></th>\n",
       "    </tr>\n",
       "  </thead>\n",
       "  <tbody>\n",
       "    <tr>\n",
       "      <th>2020-02-11</th>\n",
       "      <td>293.78</td>\n",
       "      <td>282.197327</td>\n",
       "    </tr>\n",
       "    <tr>\n",
       "      <th>2020-02-12</th>\n",
       "      <td>299.30</td>\n",
       "      <td>286.056641</td>\n",
       "    </tr>\n",
       "    <tr>\n",
       "      <th>2020-02-13</th>\n",
       "      <td>297.09</td>\n",
       "      <td>289.811707</td>\n",
       "    </tr>\n",
       "    <tr>\n",
       "      <th>2020-02-14</th>\n",
       "      <td>294.57</td>\n",
       "      <td>292.634491</td>\n",
       "    </tr>\n",
       "    <tr>\n",
       "      <th>2020-02-18</th>\n",
       "      <td>298.71</td>\n",
       "      <td>294.144623</td>\n",
       "    </tr>\n",
       "    <tr>\n",
       "      <th>2020-02-19</th>\n",
       "      <td>296.86</td>\n",
       "      <td>295.229156</td>\n",
       "    </tr>\n",
       "    <tr>\n",
       "      <th>2020-02-20</th>\n",
       "      <td>301.34</td>\n",
       "      <td>295.582520</td>\n",
       "    </tr>\n",
       "    <tr>\n",
       "      <th>2020-02-21</th>\n",
       "      <td>299.40</td>\n",
       "      <td>296.062286</td>\n",
       "    </tr>\n",
       "    <tr>\n",
       "      <th>2020-02-24</th>\n",
       "      <td>285.57</td>\n",
       "      <td>296.213318</td>\n",
       "    </tr>\n",
       "    <tr>\n",
       "      <th>2020-02-25</th>\n",
       "      <td>277.99</td>\n",
       "      <td>294.173340</td>\n",
       "    </tr>\n",
       "    <tr>\n",
       "      <th>2020-02-26</th>\n",
       "      <td>272.76</td>\n",
       "      <td>290.111938</td>\n",
       "    </tr>\n",
       "    <tr>\n",
       "      <th>2020-02-27</th>\n",
       "      <td>265.38</td>\n",
       "      <td>284.706543</td>\n",
       "    </tr>\n",
       "    <tr>\n",
       "      <th>2020-02-28</th>\n",
       "      <td>257.09</td>\n",
       "      <td>278.247772</td>\n",
       "    </tr>\n",
       "    <tr>\n",
       "      <th>2020-03-02</th>\n",
       "      <td>260.99</td>\n",
       "      <td>270.965576</td>\n",
       "    </tr>\n",
       "    <tr>\n",
       "      <th>2020-03-03</th>\n",
       "      <td>256.70</td>\n",
       "      <td>264.770233</td>\n",
       "    </tr>\n",
       "    <tr>\n",
       "      <th>2020-03-04</th>\n",
       "      <td>268.84</td>\n",
       "      <td>259.475098</td>\n",
       "    </tr>\n",
       "    <tr>\n",
       "      <th>2020-03-05</th>\n",
       "      <td>257.14</td>\n",
       "      <td>257.097748</td>\n",
       "    </tr>\n",
       "    <tr>\n",
       "      <th>2020-03-06</th>\n",
       "      <td>256.58</td>\n",
       "      <td>255.218307</td>\n",
       "    </tr>\n",
       "    <tr>\n",
       "      <th>2020-03-09</th>\n",
       "      <td>235.70</td>\n",
       "      <td>253.936356</td>\n",
       "    </tr>\n",
       "    <tr>\n",
       "      <th>2020-03-10</th>\n",
       "      <td>239.06</td>\n",
       "      <td>250.489975</td>\n",
       "    </tr>\n",
       "    <tr>\n",
       "      <th>2020-03-11</th>\n",
       "      <td>221.21</td>\n",
       "      <td>246.798141</td>\n",
       "    </tr>\n",
       "    <tr>\n",
       "      <th>2020-03-12</th>\n",
       "      <td>198.54</td>\n",
       "      <td>241.156479</td>\n",
       "    </tr>\n",
       "    <tr>\n",
       "      <th>2020-03-13</th>\n",
       "      <td>207.06</td>\n",
       "      <td>232.342087</td>\n",
       "    </tr>\n",
       "    <tr>\n",
       "      <th>2020-03-16</th>\n",
       "      <td>161.54</td>\n",
       "      <td>223.997940</td>\n",
       "    </tr>\n",
       "    <tr>\n",
       "      <th>2020-03-17</th>\n",
       "      <td>154.60</td>\n",
       "      <td>211.441910</td>\n",
       "    </tr>\n",
       "    <tr>\n",
       "      <th>2020-03-18</th>\n",
       "      <td>128.52</td>\n",
       "      <td>197.445709</td>\n",
       "    </tr>\n",
       "    <tr>\n",
       "      <th>2020-03-19</th>\n",
       "      <td>146.99</td>\n",
       "      <td>181.460037</td>\n",
       "    </tr>\n",
       "    <tr>\n",
       "      <th>2020-03-20</th>\n",
       "      <td>148.06</td>\n",
       "      <td>168.414719</td>\n",
       "    </tr>\n",
       "    <tr>\n",
       "      <th>2020-03-23</th>\n",
       "      <td>143.24</td>\n",
       "      <td>158.748932</td>\n",
       "    </tr>\n",
       "    <tr>\n",
       "      <th>2020-03-24</th>\n",
       "      <td>177.59</td>\n",
       "      <td>151.733566</td>\n",
       "    </tr>\n",
       "  </tbody>\n",
       "</table>\n",
       "</div>"
      ],
      "text/plain": [
       "             Close  Predictions\n",
       "Date                           \n",
       "2020-02-11  293.78   282.197327\n",
       "2020-02-12  299.30   286.056641\n",
       "2020-02-13  297.09   289.811707\n",
       "2020-02-14  294.57   292.634491\n",
       "2020-02-18  298.71   294.144623\n",
       "2020-02-19  296.86   295.229156\n",
       "2020-02-20  301.34   295.582520\n",
       "2020-02-21  299.40   296.062286\n",
       "2020-02-24  285.57   296.213318\n",
       "2020-02-25  277.99   294.173340\n",
       "2020-02-26  272.76   290.111938\n",
       "2020-02-27  265.38   284.706543\n",
       "2020-02-28  257.09   278.247772\n",
       "2020-03-02  260.99   270.965576\n",
       "2020-03-03  256.70   264.770233\n",
       "2020-03-04  268.84   259.475098\n",
       "2020-03-05  257.14   257.097748\n",
       "2020-03-06  256.58   255.218307\n",
       "2020-03-09  235.70   253.936356\n",
       "2020-03-10  239.06   250.489975\n",
       "2020-03-11  221.21   246.798141\n",
       "2020-03-12  198.54   241.156479\n",
       "2020-03-13  207.06   232.342087\n",
       "2020-03-16  161.54   223.997940\n",
       "2020-03-17  154.60   211.441910\n",
       "2020-03-18  128.52   197.445709\n",
       "2020-03-19  146.99   181.460037\n",
       "2020-03-20  148.06   168.414719\n",
       "2020-03-23  143.24   158.748932\n",
       "2020-03-24  177.59   151.733566"
      ]
     },
     "execution_count": 62,
     "metadata": {},
     "output_type": "execute_result"
    }
   ],
   "source": [
    "valid.tail(30)"
   ]
  },
  {
   "cell_type": "code",
   "execution_count": 63,
   "metadata": {},
   "outputs": [
    {
     "name": "stdout",
     "output_type": "stream",
     "text": [
      "[[158.74893]]\n"
     ]
    }
   ],
   "source": [
    "#Get the quote\n",
    "ulta_quote= yf.Ticker('ULTA')\n",
    "ulta_quote= ulta_quote.history(start='2015-01-01', end='2020-03-23')\n",
    "#Create a new dataframe\n",
    "new_df=ulta_quote.filter(['Close'])\n",
    "#Get the last 60 day closing price values and convert the dataframe to an array\n",
    "last_60_days=new_df[-60:].values\n",
    "#Scale the data to be values between 0 and 1\n",
    "last_60_days_scaled=scaler.transform(last_60_days)\n",
    "#Create an empty list\n",
    "X_test=[]\n",
    "#Append the past 60 days \n",
    "X_test.append(last_60_days_scaled)\n",
    "#Convert the X_test data set to numpy array\n",
    "X_test=np.array(X_test)\n",
    "#Reshape the data\n",
    "X_test=np.reshape(X_test,(X_test.shape[0],X_test.shape[1],1))\n",
    "#Get the predicted scaled price\n",
    "pred_price=model.predict(X_test)\n",
    "#Undo the scaling\n",
    "pred_price=scaler.inverse_transform(pred_price)\n",
    "print(pred_price)"
   ]
  },
  {
   "cell_type": "code",
   "execution_count": null,
   "metadata": {},
   "outputs": [],
   "source": []
  }
 ],
 "metadata": {
  "kernelspec": {
   "display_name": "Python 3",
   "language": "python",
   "name": "python3"
  },
  "language_info": {
   "codemirror_mode": {
    "name": "ipython",
    "version": 3
   },
   "file_extension": ".py",
   "mimetype": "text/x-python",
   "name": "python",
   "nbconvert_exporter": "python",
   "pygments_lexer": "ipython3",
   "version": "3.7.1"
  }
 },
 "nbformat": 4,
 "nbformat_minor": 2
}
